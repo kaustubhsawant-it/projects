{
 "cells": [
  {
   "cell_type": "markdown",
   "id": "838248d0",
   "metadata": {},
   "source": [
    "Imports\n",
    "---"
   ]
  },
  {
   "cell_type": "code",
   "execution_count": 5,
   "id": "065d7827",
   "metadata": {},
   "outputs": [
    {
     "name": "stderr",
     "output_type": "stream",
     "text": [
      "[nltk_data] Downloading package stopwords to\n",
      "[nltk_data]     /Users/kaustubhsawant/nltk_data...\n",
      "[nltk_data]   Package stopwords is already up-to-date!\n"
     ]
    },
    {
     "data": {
      "text/plain": [
       "True"
      ]
     },
     "execution_count": 5,
     "metadata": {},
     "output_type": "execute_result"
    }
   ],
   "source": [
    "#imports\n",
    "import pandas as pd\n",
    "import numpy as np\n",
    "import matplotlib.pyplot as plt\n",
    "import seaborn as sns\n",
    "\n",
    "#Libraries\n",
    "import nltk\n",
    "import string\n",
    "import re\n",
    "from nltk.corpus import stopwords\n",
    "from nltk.stem.porter import PorterStemmer\n",
    "\n",
    "#downloads\n",
    "nltk.download('stopwords')"
   ]
  },
  {
   "cell_type": "markdown",
   "id": "d8d9c171",
   "metadata": {},
   "source": [
    "Data Loading & Printing\n",
    "---"
   ]
  },
  {
   "cell_type": "code",
   "execution_count": 6,
   "id": "d7ecee78",
   "metadata": {},
   "outputs": [
    {
     "name": "stdout",
     "output_type": "stream",
     "text": [
      "\n",
      "First 10 Values of the dataset:\n",
      "  label                                            message\n",
      "0   ham  Go until jurong point, crazy.. Available only ...\n",
      "1   ham                      Ok lar... Joking wif u oni...\n",
      "2  spam  Free entry in 2 a wkly comp to win FA Cup fina...\n",
      "3   ham  U dun say so early hor... U c already then say...\n",
      "4   ham  Nah I don't think he goes to usf, he lives aro...\n",
      "5  spam  FreeMsg Hey there darling it's been 3 week's n...\n",
      "6   ham  Even my brother is not like to speak with me. ...\n",
      "7   ham  As per your request 'Melle Melle (Oru Minnamin...\n",
      "8  spam  WINNER!! As a valued network customer you have...\n",
      "9  spam  Had your mobile 11 months or more? U R entitle...\n",
      "\n",
      "\n",
      "Shape of the dataset:\n",
      "(5572, 2)\n",
      "\n",
      "     \n",
      "\n",
      "Null Values (if any) in the dataset:\n",
      "label      0\n",
      "message    0\n",
      "dtype: int64\n",
      "      \n"
     ]
    }
   ],
   "source": [
    "data = '../data/SMSSpamCollection.csv'\n",
    "\n",
    "df = pd.read_csv(data,sep='\\t',header=None , names=[\"label\",\"message\"])\n",
    "print(f'''\n",
    "First 10 Values of the dataset:\n",
    "{df.head(10)}\\n\\n\n",
    "Shape of the dataset:\n",
    "{df.shape}\\n\\n     \n",
    "\n",
    "Null Values (if any) in the dataset:\n",
    "{df.isnull().sum()}\n",
    "      ''')"
   ]
  },
  {
   "cell_type": "markdown",
   "id": "e0bc03ca",
   "metadata": {},
   "source": [
    "Preprocessing for NLP (Creating a clean text method)\n",
    "---"
   ]
  },
  {
   "cell_type": "code",
   "execution_count": 7,
   "id": "05af30c6",
   "metadata": {},
   "outputs": [],
   "source": [
    "stemmer = PorterStemmer()\n",
    "stop_words = set(stopwords.words('english'))\n",
    "\n",
    "def clean_text(text):\n",
    "    #1. Converting to Lowercase\n",
    "    text = text.lower()\n",
    "\n",
    "    #2. Remove Punctuation/special character using regex\n",
    "    text = re.sub(r'[^a-zA-Z0-9]',' ',text)\n",
    "\n",
    "    #3. Tokenize (Split into words)\n",
    "    words = text.split()\n",
    "\n",
    "    #4. Remove Stopwords and apply stemming\n",
    "    cleaned = [stemmer.stem(word) for word in words if word not in stop_words]\n",
    "\n",
    "    #5. Rejoin \n",
    "    return \" \".join(cleaned)"
   ]
  },
  {
   "cell_type": "markdown",
   "id": "03c63a30",
   "metadata": {},
   "source": [
    "Apply Method to Dataset \n",
    "---"
   ]
  },
  {
   "cell_type": "code",
   "execution_count": 8,
   "id": "d2b72675",
   "metadata": {},
   "outputs": [
    {
     "name": "stdout",
     "output_type": "stream",
     "text": [
      "     label                                            message  \\\n",
      "0      ham  Go until jurong point, crazy.. Available only ...   \n",
      "1      ham                      Ok lar... Joking wif u oni...   \n",
      "2     spam  Free entry in 2 a wkly comp to win FA Cup fina...   \n",
      "3      ham  U dun say so early hor... U c already then say...   \n",
      "4      ham  Nah I don't think he goes to usf, he lives aro...   \n",
      "...    ...                                                ...   \n",
      "5567  spam  This is the 2nd time we have tried 2 contact u...   \n",
      "5568   ham               Will ü b going to esplanade fr home?   \n",
      "5569   ham  Pity, * was in mood for that. So...any other s...   \n",
      "5570   ham  The guy did some bitching but I acted like i'd...   \n",
      "5571   ham                         Rofl. Its true to its name   \n",
      "\n",
      "                                        cleaned_message  \n",
      "0     go jurong point crazi avail bugi n great world...  \n",
      "1                                 ok lar joke wif u oni  \n",
      "2     free entri 2 wkli comp win fa cup final tkt 21...  \n",
      "3                   u dun say earli hor u c alreadi say  \n",
      "4                  nah think goe usf live around though  \n",
      "...                                                 ...  \n",
      "5567  2nd time tri 2 contact u u 750 pound prize 2 c...  \n",
      "5568                              b go esplanad fr home  \n",
      "5569                                  piti mood suggest  \n",
      "5570  guy bitch act like interest buy someth els nex...  \n",
      "5571                                     rofl true name  \n",
      "\n",
      "[5572 rows x 3 columns]\n"
     ]
    }
   ],
   "source": [
    "df['cleaned_message'] = df['message'].apply(clean_text)\n",
    "print(df)"
   ]
  },
  {
   "cell_type": "code",
   "execution_count": 9,
   "id": "3c13a14b",
   "metadata": {},
   "outputs": [
    {
     "name": "stdout",
     "output_type": "stream",
     "text": [
      "[('u', 1207), ('call', 679), ('2', 533), ('go', 456), ('get', 452), ('ur', 391), ('4', 327), ('gt', 318), ('lt', 316), ('come', 304), ('ok', 293), ('free', 284), ('day', 276), ('know', 275), ('love', 266), ('like', 261), ('time', 252), ('good', 248), ('want', 247), ('got', 240)]\n"
     ]
    }
   ],
   "source": [
    "#Check for repeated messages\n",
    "#optional check \n",
    "from collections import Counter\n",
    "\n",
    "all_words = ' '.join(df['cleaned_message']).split()\n",
    "freq_words = Counter(all_words).most_common(20)\n",
    "\n",
    "print(freq_words)"
   ]
  },
  {
   "cell_type": "markdown",
   "id": "07dfc3be",
   "metadata": {},
   "source": [
    "Text Vectorization (BoW or TF_IDF)\n",
    "---"
   ]
  },
  {
   "cell_type": "code",
   "execution_count": 10,
   "id": "f1ac7c9e",
   "metadata": {},
   "outputs": [
    {
     "name": "stdout",
     "output_type": "stream",
     "text": [
      "(5572, 3000)\n"
     ]
    }
   ],
   "source": [
    "from sklearn.feature_extraction.text import TfidfVectorizer\n",
    "tfidf = TfidfVectorizer(max_features=3000) #Uses top 3000 words to limit size\n",
    "\n",
    "X = tfidf.fit_transform(df['cleaned_message']).toarray() #fit & transform\n",
    "print(X.shape)\n"
   ]
  },
  {
   "cell_type": "markdown",
   "id": "04339db7",
   "metadata": {},
   "source": [
    "Converting label to binary values\n",
    "---"
   ]
  },
  {
   "cell_type": "code",
   "execution_count": 11,
   "id": "f72b8621",
   "metadata": {},
   "outputs": [],
   "source": [
    "y = df['label'].map({'ham':0,'spam':1}).values"
   ]
  },
  {
   "cell_type": "markdown",
   "id": "555576b7",
   "metadata": {},
   "source": [
    "Train/Test Split & Model Training & Prediction Vizualization\n",
    "---"
   ]
  },
  {
   "cell_type": "code",
   "execution_count": 12,
   "id": "36ba4e1b",
   "metadata": {},
   "outputs": [
    {
     "name": "stderr",
     "output_type": "stream",
     "text": [
      "/var/folders/s5/rw3325yj3gj0t8w9k1zvycpm0000gn/T/ipykernel_53068/3762809335.py:14: FutureWarning: \n",
      "\n",
      "Passing `palette` without assigning `hue` is deprecated and will be removed in v0.14.0. Assign the `x` variable to `hue` and set `legend=False` for the same effect.\n",
      "\n",
      "  sns.countplot(x=y_pred,palette='viridis')\n"
     ]
    },
    {
     "data": {
      "image/png": "[encoded data removed]",
      "text/plain": [
       "<Figure size 640x480 with 1 Axes>"
      ]
     },
     "metadata": {},
     "output_type": "display_data"
    },
    {
     "data": {
      "image/png": "[encoded data removed]",
      "text/plain": [
       "<Figure size 640x480 with 1 Axes>"
      ]
     },
     "metadata": {},
     "output_type": "display_data"
    }
   ],
   "source": [
    "from sklearn.model_selection import train_test_split\n",
    "from sklearn.naive_bayes import MultinomialNB\n",
    "\n",
    "X_train,X_test,y_train,y_test = train_test_split(X,y,test_size = 0.2, random_state = 42)\n",
    "\n",
    "#Train Model\n",
    "model = MultinomialNB()\n",
    "model.fit(X_train,y_train)\n",
    "\n",
    "y_pred = model.predict(X_test)\n",
    "\n",
    "#Graphs\n",
    "#Graph 1: Predicted Labels\n",
    "sns.countplot(x=y_pred,palette='viridis')\n",
    "plt.xticks([0,1],['Ham','Spam'])\n",
    "plt.title('Distribution of Predicted Labels')\n",
    "plt.show()\n",
    "\n",
    "#Graph 2: Actual V/s Predicted\n",
    "sns.histplot(y_test,color='blue',label='Actual',kde=True,bins=2) #kde or kernel Density Estimation is a smooth curve of probability distribution\n",
    "sns.histplot(y_pred,color='orange',label='predicted',kde=True,bins=2) #bins is the range of your data being split into intervals,\n",
    "plt.xticks([0,1],['Ham','Spam'])\n",
    "plt.title('Actual V/s Predicted')\n",
    "plt.legend()\n",
    "plt.show()\n"
   ]
  },
  {
   "cell_type": "markdown",
   "id": "eab58fc2",
   "metadata": {},
   "source": [
    "Confusion Matrix (Vizualization) & Classification Report\n",
    "---"
   ]
  },
  {
   "cell_type": "code",
   "execution_count": 13,
   "id": "fe63ead6",
   "metadata": {},
   "outputs": [
    {
     "name": "stdout",
     "output_type": "stream",
     "text": [
      "Confusion Matrix: \n",
      "[[965   1]\n",
      " [ 17 132]]\n",
      "      \n",
      "Classification_report: \n",
      "              precision    recall  f1-score   support\n",
      "\n",
      "           0       0.98      1.00      0.99       966\n",
      "           1       0.99      0.89      0.94       149\n",
      "\n",
      "    accuracy                           0.98      1115\n",
      "   macro avg       0.99      0.94      0.96      1115\n",
      "weighted avg       0.98      0.98      0.98      1115\n",
      "\n"
     ]
    },
    {
     "data": {
      "text/plain": [
       "Text(50.722222222222214, 0.5, 'Actual')"
      ]
     },
     "execution_count": 13,
     "metadata": {},
     "output_type": "execute_result"
    },
    {
     "data": {
      "image/png": "[encoded data removed]",
      "text/plain": [
       "<Figure size 640x480 with 2 Axes>"
      ]
     },
     "metadata": {},
     "output_type": "display_data"
    }
   ],
   "source": [
    "from sklearn.metrics import confusion_matrix, classification_report\n",
    "cm = confusion_matrix(y_test,y_pred)\n",
    "print(f'''Confusion Matrix: \n",
    "{cm}\n",
    "      \n",
    "Classification_report: \\n{classification_report(y_test,y_pred)}''')\n",
    "plt.title(\"Confusion Matrix\")\n",
    "sns.heatmap(cm,cmap='coolwarm',annot=True,xticklabels=['Ham','Spam'],yticklabels=['Ham','Spam'])\n",
    "plt.xlabel('Prediction')\n",
    "plt.ylabel('Actual')"
   ]
  }
 ],
 "metadata": {
  "kernelspec": {
   "display_name": "base",
   "language": "python",
   "name": "python3"
  },
  "language_info": {
   "codemirror_mode": {
    "name": "ipython",
    "version": 3
   },
   "file_extension": ".py",
   "mimetype": "text/x-python",
   "name": "python",
   "nbconvert_exporter": "python",
   "pygments_lexer": "ipython3",
   "version": "3.12.4"
  }
 },
 "nbformat": 4,
 "nbformat_minor": 5
}
